{
  "nbformat": 4,
  "nbformat_minor": 0,
  "metadata": {
    "colab": {
      "provenance": [],
      "toc_visible": true
    },
    "kernelspec": {
      "name": "python3",
      "display_name": "Python 3"
    },
    "language_info": {
      "name": "python"
    }
  },
  "cells": [
    {
      "cell_type": "code",
      "source": [
        "#Task 1 : Loop through numbers 2 to 12 and print their squares\n",
        "\n",
        "for i in range(2, 13):\n",
        "    print(f\"Le carré de {i} est {i**2}\")\n"
      ],
      "metadata": {
        "colab": {
          "base_uri": "https://localhost:8080/"
        },
        "id": "pgXejTUuRvQs",
        "outputId": "f389a36f-b644-4c47-ff2d-b5e14cb53822"
      },
      "execution_count": 1,
      "outputs": [
        {
          "output_type": "stream",
          "name": "stdout",
          "text": [
            "Le carré de 2 est 4\n",
            "Le carré de 3 est 9\n",
            "Le carré de 4 est 16\n",
            "Le carré de 5 est 25\n",
            "Le carré de 6 est 36\n",
            "Le carré de 7 est 49\n",
            "Le carré de 8 est 64\n",
            "Le carré de 9 est 81\n",
            "Le carré de 10 est 100\n",
            "Le carré de 11 est 121\n",
            "Le carré de 12 est 144\n"
          ]
        }
      ]
    },
    {
      "cell_type": "code",
      "source": [
        "#Task 2: Check if each grade in a list is a passing grade (75 or more)\n",
        "def check_grades(grades):\n",
        "    # If the grade is 75 or above, it's a pass\n",
        "    for grade in grades:\n",
        "        # Check if grade is 75 or higher\n",
        "        if grade >= 75:\n",
        "            print(\"Pass\")\n",
        "        else:\n",
        "          #Otherwise, the student didn't pass\n",
        "            print(\"No\")\n",
        "\n",
        "#Try the function with some sample grades\n",
        "check_grades([85, 72, 90, 60, 75])\n"
      ],
      "metadata": {
        "colab": {
          "base_uri": "https://localhost:8080/"
        },
        "id": "5bqjlEk3RzCt",
        "outputId": "860e7da0-9b2a-466b-c74b-3cae7ea50b3a"
      },
      "execution_count": 2,
      "outputs": [
        {
          "output_type": "stream",
          "name": "stdout",
          "text": [
            "Pass\n",
            "No\n",
            "Pass\n",
            "No\n",
            "Pass\n"
          ]
        }
      ]
    },
    {
      "cell_type": "code",
      "source": [
        "#Task 3 :\n",
        "#Count how many times each vowel appears in a text, and give the total\n",
        "def count_vowels(text):\n",
        "    # Make the text lowercase so we treat 'A' and 'a' the same\n",
        "    text = text.lower()\n",
        "    #List of vowels to look for\n",
        "    vowels = ['a', 'e', 'i', 'o', 'u']\n",
        "    # Dictionary to keep track of each vowel's count\n",
        "    vowel_counts = {v: 0 for v in vowels}\n",
        "    total_vowels = 0  # Total vowel counter\n",
        "\n",
        "    # Go through each character in the text\n",
        "    for char in text:\n",
        "        # Check if character is a vowel\n",
        "        if char in vowels:\n",
        "            vowel_counts[char] += 1  # Increment count for the vowel\n",
        "            total_vowels += 1  # Increment total vowels\n",
        "\n",
        "    # Show how many times each vowel appeared\n",
        "    for v in vowels:\n",
        "        print(f\"{v}: {vowel_counts[v]}\")\n",
        "\n",
        "    # Show total number of vowels found\n",
        "    print(f\"Total vowels: {total_vowels}\")\n",
        "\n",
        "# testing with a sample sentence\n",
        "count_vowels(\"Everything is data-driven today.\")\n"
      ],
      "metadata": {
        "colab": {
          "base_uri": "https://localhost:8080/"
        },
        "id": "SpXaEodJSXGn",
        "outputId": "30ee76d8-f302-4e7d-e7a3-33f6f02e29ac"
      },
      "execution_count": 3,
      "outputs": [
        {
          "output_type": "stream",
          "name": "stdout",
          "text": [
            "a: 3\n",
            "e: 3\n",
            "i: 3\n",
            "o: 1\n",
            "u: 0\n",
            "Total vowels: 10\n"
          ]
        }
      ]
    },
    {
      "cell_type": "code",
      "source": [
        "#Task 4 :\n",
        "#This function takes a string, returns it reversed, and prints its length\n",
        "\n",
        "def reverse_string(text):\n",
        "    # Reverse the string using slicing\n",
        "    reversed_text = text[::-1]\n",
        "\n",
        "    # Print the number of characters in the string\n",
        "    print(f\"Length: {len(text)}\")\n",
        "\n",
        "    # Return the reversed string\n",
        "    return reversed_text\n",
        "\n",
        "# Example usage\n",
        "result = reverse_string(\"Data Science\")\n",
        "print(f\"Reversed: {result}\")\n"
      ],
      "metadata": {
        "colab": {
          "base_uri": "https://localhost:8080/"
        },
        "id": "Ao3PFOD9U833",
        "outputId": "1474ccc1-e3f8-447c-e70e-d310f0f2cd28"
      },
      "execution_count": 10,
      "outputs": [
        {
          "output_type": "stream",
          "name": "stdout",
          "text": [
            "Length: 12\n",
            "Reversed: ecneicS ataD\n"
          ]
        }
      ]
    },
    {
      "cell_type": "code",
      "source": [
        "#Task 5: This program calculates total spending per customer from a list of purchases\n",
        "\n",
        "# Sample list of purchases: (customer name, amount)\n",
        "purchases = [(\"Alice\", 120), (\"Bob\", 80), (\"Alice\", 50), (\"Bob\", 20), (\"Clara\", 200)]\n",
        "\n",
        "# Initialize an empty dictionary to store totals per customer\n",
        "totals = {}\n",
        "\n",
        "# Iterate over each purchase in the list\n",
        "for name, amount in purchases:\n",
        "    # If the customer is already in the dictionary, add the amount\n",
        "    if name in totals:\n",
        "        totals[name] += amount\n",
        "    # Otherwise, create a new entry for the customer\n",
        "    else:\n",
        "        totals[name] = amount\n",
        "\n",
        "# Print how much each customer spent\n",
        "for customer, total in totals.items():\n",
        "    print(f\"{customer} spent ${total}\")\n",
        "\n"
      ],
      "metadata": {
        "colab": {
          "base_uri": "https://localhost:8080/"
        },
        "id": "9ed8J81qSgcL",
        "outputId": "6d4b9aac-5452-488c-e345-561a2abb2142"
      },
      "execution_count": 4,
      "outputs": [
        {
          "output_type": "stream",
          "name": "stdout",
          "text": [
            "Alice spent $170\n",
            "Bob spent $100\n",
            "Clara spent $200\n"
          ]
        }
      ]
    },
    {
      "cell_type": "code",
      "source": [
        "#Task 6:\n",
        "import requests\n",
        "import pandas as pd\n",
        "\n",
        "# World Bank API URL for Japan population (SP.POP.TOTL) from 2010-2020\n",
        "url = \"https://api.worldbank.org/v2/country/JPN/indicator/SP.POP.TOTL?date=2010:2020&format=json\"\n",
        "\n",
        "# Fetch the data\n",
        "response = requests.get(url).json()\n",
        "\n",
        "# Extract population data\n",
        "population_data = response[1]  # The second element contains actual data\n",
        "\n",
        "# Convert to a DataFrame\n",
        "df = pd.DataFrame([\n",
        "    {\"Year\": int(item[\"date\"]), \"Country\": item[\"country\"][\"value\"], \"Population\": int(item[\"value\"])}\n",
        "    for item in population_data if item[\"value\"] is not None\n",
        "])\n",
        "\n",
        "# Sort by Year ascending\n",
        "df = df.sort_values(by=\"Year\")\n",
        "\n",
        "# Print in a readable way\n",
        "for _, row in df.iterrows():\n",
        "    print(f\"{row['Country']}, {row['Year']}: Population = {row['Population']}\")"
      ],
      "metadata": {
        "colab": {
          "base_uri": "https://localhost:8080/"
        },
        "id": "se8elbMeSu0I",
        "outputId": "761b5e99-f84e-4f74-e8d1-c88910985bae"
      },
      "execution_count": 9,
      "outputs": [
        {
          "output_type": "stream",
          "name": "stdout",
          "text": [
            "Japan, 2010: Population = 128070000\n",
            "Japan, 2011: Population = 127833000\n",
            "Japan, 2012: Population = 127629000\n",
            "Japan, 2013: Population = 127445000\n",
            "Japan, 2014: Population = 127276000\n",
            "Japan, 2015: Population = 127141000\n",
            "Japan, 2016: Population = 127076000\n",
            "Japan, 2017: Population = 126972000\n",
            "Japan, 2018: Population = 126811000\n",
            "Japan, 2019: Population = 126633000\n",
            "Japan, 2020: Population = 126261000\n"
          ]
        }
      ]
    }
  ]
}